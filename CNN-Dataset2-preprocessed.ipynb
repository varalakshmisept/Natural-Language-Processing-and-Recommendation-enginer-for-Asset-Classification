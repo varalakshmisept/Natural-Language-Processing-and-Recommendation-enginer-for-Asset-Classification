{
 "cells": [
  {
   "cell_type": "code",
   "execution_count": 1,
   "id": "6fa78faf",
   "metadata": {},
   "outputs": [],
   "source": [
    "from sklearn.preprocessing import LabelEncoder\n",
    "import config\n",
    "from keras.preprocessing.sequence import pad_sequences\n",
    "import re\n",
    "import pandas as pd\n",
    "from sklearn.model_selection import train_test_split\n",
    "import random\n",
    "import boto3\n",
    "import numpy as np\n",
    "from keras.preprocessing.text import Tokenizer\n",
    "from keras.layers import Embedding\n",
    "from keras.layers import Dense, Input, GlobalMaxPooling1D\n",
    "from keras.layers import Conv1D, MaxPooling1D, Embedding\n",
    "from keras.layers import Input, Dense, Embedding, Conv2D, MaxPooling2D, Dropout,concatenate\n",
    "from keras.layers.core import Reshape, Flatten\n",
    "from keras.callbacks import EarlyStopping\n",
    "import sys\n",
    "from tensorflow import keras"
   ]
  },
  {
   "cell_type": "code",
   "execution_count": 2,
   "id": "f99be2c6",
   "metadata": {},
   "outputs": [],
   "source": [
    "from keras import regularizers\n",
    "from keras.models import Model\n",
    "import matplotlib.pyplot as plt\n",
    "from keras.optimizers import SGD, RMSprop, Adagrad, Adadelta, Adam, Adamax, Nadam\n",
    "import warnings\n",
    "warnings.filterwarnings(\"ignore\", category=DeprecationWarning)"
   ]
  },
  {
   "cell_type": "code",
   "execution_count": 3,
   "id": "8f2fd0ee",
   "metadata": {},
   "outputs": [],
   "source": [
    "def trainTestSplit(df,n):\n",
    "    random.seed(123)\n",
    "    df1 = df['ASSET_CLASS'].value_counts().rename_axis('Assets').reset_index(name = 'counts')\n",
    "    df_new = df1[df1['counts']>=n] # Train Test split 75% - train\n",
    "    assets = list(df_new['Assets'])\n",
    "    dffiltered = df[df['ASSET_CLASS'].isin(assets)]\n",
    "    dffiltered['ASSET_CLASS_CODES'] = pd.Categorical(dffiltered['ASSET_CLASS'])\n",
    "    dffiltered['ASSET_CLASS_CODES'] = dffiltered['ASSET_CLASS_CODES'].cat.codes\n",
    "    #x = dffiltered.drop(columns = ['ASSET_CLASS','ASSET_CLASS_CODES','BUSINESS_UNIT','PSC_CODE','FUND_SUBOBJCLASS','ORDER_DATE','ORDER_TITLE',                                                                                                                                                      \n",
    "     #       'LINE_DESCRIPTION', 'VENDOR_NAME', 'VENDOR_COUNTRY', 'ASSET_CLASS_DESCRIPTION','text_fields','SUB_OBJ_DESCR','OBJ_CODE'])\n",
    "    #x = dffiltered[['text_fields', 'ASSET_CLASS_CODES']]\n",
    "    \n",
    "    x = dffiltered['SPELL_CORRECTED']\n",
    "    #xcols = list(x.columns)\n",
    "    y = pd.get_dummies(dffiltered['ASSET_CLASS_CODES'])\n",
    "    # creating instance of labelencoder    \n",
    "    X_train, X_test, Y_train, Y_test = train_test_split(x,y, test_size = 0.20, stratify = y)\n",
    "    print(' Number of Assets ' + str(len(set(list(dffiltered['ASSET_CLASS'])))))\n",
    "    #dict_codes = pd.Series(df.ASSET_CLASS.values, index = df.ASSET_CLASS_CODES).to_dict()\n",
    "    return X_train, X_test,  Y_train, Y_test"
   ]
  },
  {
   "cell_type": "code",
   "execution_count": 4,
   "id": "27c3e89d",
   "metadata": {},
   "outputs": [],
   "source": [
    "def scores(y_pred, Y_test):\n",
    "    print('Accuracy:   '+str(accuracy_score(y_pred, Y_test)))\n",
    "    print('Precision Macro:   '+ str(precision_score(y_pred, Y_test,average = 'macro')))\n",
    "    print('Recall Macro:     '+str(recall_score(y_pred, Y_test, average = 'macro')))\n",
    "    print('F1 Score Macro:     '+str(f1_score(y_pred, Y_test, average = 'macro')))\n",
    "    print('\\n')"
   ]
  },
  {
   "cell_type": "code",
   "execution_count": 5,
   "id": "6f66b0c8",
   "metadata": {},
   "outputs": [],
   "source": [
    "def generateEmbeddingIndex():\n",
    "    print('Indexing word vectors.')\n",
    "    embeddings_index = {}\n",
    "    with open((config.utils_dir+config.glove_txt_300d)) as f:\n",
    "        for line in f:\n",
    "            word, coefs = line.split(maxsplit=1)\n",
    "            coefs = np.fromstring(coefs, 'f', sep=' ')\n",
    "            embeddings_index[word] = coefs\n",
    "\n",
    "    print('Found %s word vectors.' % len(embeddings_index))\n",
    "    return embeddings_index"
   ]
  },
  {
   "cell_type": "code",
   "execution_count": 6,
   "id": "ed2ae4b2",
   "metadata": {},
   "outputs": [],
   "source": [
    "#Tokenize text of the training data with keras text preprocessing functions\n",
    "def cnn(X_train, X_test, Y_train, Y_test, wordembeddings, vocab_size):\n",
    "    \n",
    "    np.random.seed(1234)\n",
    "    #NUM_WORDS = vocab_size\n",
    "    EMBEDDING_DIM=300\n",
    "    tokenizer = Tokenizer(filters='!\"#$%&()*+,-./:;<=>?@[\\\\]^_`{|}~\\t\\n\\'',\n",
    "                      lower=True)\n",
    "    tokenizer.fit_on_texts(X_train)\n",
    "    word_index = tokenizer.word_index\n",
    "    print('Found %s unique tokens.' % len(word_index))\n",
    "    \n",
    "    sequences_train = tokenizer.texts_to_sequences(X_train)\n",
    "    sequences_valid=tokenizer.texts_to_sequences(X_test)\n",
    "    \n",
    "    max_length_sentence = X_train.str.split().str.len().max()\n",
    "    print(\"The number of words in the longest sentence\", max_length_sentence)\n",
    "    \n",
    "    X_train = pad_sequences(sequences_train,maxlen=max_length_sentence)\n",
    "    X_val = pad_sequences(sequences_valid,maxlen=X_train.shape[1])\n",
    "    \n",
    "    y_train = np.asarray(Y_train)\n",
    "    y_val = np.asarray(Y_test)\n",
    "    \n",
    "    print('Shape of X train and X validation tensor:', X_train.shape,X_val.shape)\n",
    "    print('Shape of label train and validation tensor:', y_train.shape,y_val.shape)\n",
    "    \n",
    "    \n",
    "    EMBEDDING_DIM=300\n",
    "    vocabulary_size=len(word_index)+1\n",
    "    embedding_matrix = np.zeros((vocabulary_size, EMBEDDING_DIM))\n",
    "    \n",
    "    for word, i in word_index.items():\n",
    "        try:\n",
    "            embedding_vector = model[word]\n",
    "        except:\n",
    "            try:\n",
    "                embedding_vector = model[word.title()]\n",
    "            except:\n",
    "                try:\n",
    "                    embedding_vector = model[word.upper()]\n",
    "                except:\n",
    "                     embedding_vector = np.array([round(np.random.rand(),8) for i in range(0,300)])\n",
    "\n",
    "        if embedding_vector is not None:\n",
    "            embedding_matrix[i] = embedding_vector\n",
    "\n",
    "    embedding_layer = Embedding(vocabulary_size,\n",
    "                            EMBEDDING_DIM,\n",
    "                            weights=[embedding_matrix],\n",
    "                            trainable=False) #Try with True\n",
    "    \n",
    "    \n",
    "    \n",
    "    sequence_length = X_train.shape[1]\n",
    "    filter_sizes = [8,9]\n",
    "    num_filters = 100\n",
    "    drop = 0.1\n",
    "\n",
    "    inputs = Input(shape=(sequence_length,))\n",
    "    embedding = embedding_layer(inputs)\n",
    "    reshape = Reshape((sequence_length,EMBEDDING_DIM,1))(embedding)\n",
    "    \n",
    "    conv_0 = Conv2D(num_filters, (filter_sizes[0], EMBEDDING_DIM),activation='relu')(reshape)\n",
    "    conv_1 = Conv2D(num_filters, (filter_sizes[1], EMBEDDING_DIM),activation='relu')(reshape)\n",
    "   \n",
    "    \n",
    "\n",
    "    maxpool_0 = MaxPooling2D((sequence_length - filter_sizes[0] + 1, 1), strides=(1,1))(conv_0)\n",
    "    maxpool_1 = MaxPooling2D((sequence_length - filter_sizes[1] + 1, 1), strides=(1,1))(conv_1)\n",
    "    \n",
    "\n",
    "    merged_tensor = concatenate([maxpool_0, maxpool_1], axis=1)\n",
    "    flatten = Flatten()(merged_tensor)\n",
    "    reshape = Reshape((2*num_filters,))(flatten)\n",
    "    #dropout = Dropout(drop)(flatten)\n",
    "    conc = Dense(40)(flatten)\n",
    "    output = Dense(units=Y_train.shape[1], activation='softmax')(conc)\n",
    "\n",
    "    # this creates a model that includes\n",
    "    model = Model(inputs, output)\n",
    "    \n",
    "    # Compiling Model using optimizer\n",
    "    opt = Adam(lr=1e-3)\n",
    "    model.compile(loss='categorical_crossentropy',optimizer=opt,metrics=['acc'])\n",
    "    model.summary()\n",
    "    \n",
    "    \n",
    "    # Fitting Model to the data\n",
    "    callbacks = [EarlyStopping(monitor='val_loss')]\n",
    "    hist_adam = model.fit(X_train, y_train, batch_size=1000, epochs=200, verbose=1, validation_data=(X_val, y_val),\n",
    "             callbacks=callbacks)\n",
    "    \n",
    "    \n",
    "    plt.suptitle('Optimizer : Adam', fontsize=10)\n",
    "    plt.ylabel('Loss', fontsize=16)\n",
    "    plt.xlabel('Epoch', fontsize=14)\n",
    "    plt.plot(hist_adam.history['loss'], color='b', label='Training Loss')\n",
    "    plt.plot(hist_adam.history['val_loss'], color='r', label='Validation Loss')\n",
    "    plt.legend(loc='upper right')\n",
    "    plt.savefig('/home/ubuntu/asset_classification/results/cnn_model_dataset2_preprocessed.png')\n",
    "    #y_pred = model.predict(X_test)\n",
    "    #scores(y_pred, Y_test)\n",
    "    model.save(config.cnn_prepocessed_dataset2)\n",
    "    return model,hist_adam\n"
   ]
  },
  {
   "cell_type": "code",
   "execution_count": 7,
   "id": "f81abfb1",
   "metadata": {},
   "outputs": [],
   "source": [
    "df = pd.read_csv(config.datasets_dir+config.final_preprocessed) \n",
    "df = df.replace(np.nan, '', regex = True)"
   ]
  },
  {
   "cell_type": "code",
   "execution_count": 8,
   "id": "f01c0c4d",
   "metadata": {},
   "outputs": [
    {
     "data": {
      "text/plain": [
       "False"
      ]
     },
     "execution_count": 8,
     "metadata": {},
     "output_type": "execute_result"
    }
   ],
   "source": [
    "df[\"SPELL_CORRECTED\"].isnull().values.any()"
   ]
  },
  {
   "cell_type": "code",
   "execution_count": 9,
   "id": "61a300f3",
   "metadata": {},
   "outputs": [
    {
     "name": "stderr",
     "output_type": "stream",
     "text": [
      "<ipython-input-3-33753d6faba4>:7: SettingWithCopyWarning: \n",
      "A value is trying to be set on a copy of a slice from a DataFrame.\n",
      "Try using .loc[row_indexer,col_indexer] = value instead\n",
      "\n",
      "See the caveats in the documentation: https://pandas.pydata.org/pandas-docs/stable/user_guide/indexing.html#returning-a-view-versus-a-copy\n",
      "  dffiltered['ASSET_CLASS_CODES'] = pd.Categorical(dffiltered['ASSET_CLASS'])\n",
      "<ipython-input-3-33753d6faba4>:8: SettingWithCopyWarning: \n",
      "A value is trying to be set on a copy of a slice from a DataFrame.\n",
      "Try using .loc[row_indexer,col_indexer] = value instead\n",
      "\n",
      "See the caveats in the documentation: https://pandas.pydata.org/pandas-docs/stable/user_guide/indexing.html#returning-a-view-versus-a-copy\n",
      "  dffiltered['ASSET_CLASS_CODES'] = dffiltered['ASSET_CLASS_CODES'].cat.codes\n"
     ]
    },
    {
     "name": "stdout",
     "output_type": "stream",
     "text": [
      " Number of Assets 909\n"
     ]
    }
   ],
   "source": [
    "X_train, X_test, Y_train, Y_test = trainTestSplit(df,2)"
   ]
  },
  {
   "cell_type": "code",
   "execution_count": 10,
   "id": "f28de04a",
   "metadata": {},
   "outputs": [
    {
     "name": "stdout",
     "output_type": "stream",
     "text": [
      "Indexing word vectors.\n",
      "Found 2195885 word vectors.\n"
     ]
    }
   ],
   "source": [
    "wordembeddings = generateEmbeddingIndex()"
   ]
  },
  {
   "cell_type": "code",
   "execution_count": 11,
   "id": "c653da84",
   "metadata": {},
   "outputs": [
    {
     "name": "stdout",
     "output_type": "stream",
     "text": [
      "['transformers' 'warehouse' 'location' ... 'relates' 'arsenic' 'medial']\n"
     ]
    }
   ],
   "source": [
    "vocabulary = df[\"SPELL_CORRECTED\"].str.lower().str.split(\" \").apply(pd.Series).stack().unique()\n",
    "#cnn(X_train, X_test, Y_train, Y_test, wordembeddings)\n",
    "print(vocabulary)"
   ]
  },
  {
   "cell_type": "code",
   "execution_count": 12,
   "id": "2bdeb8a0",
   "metadata": {},
   "outputs": [
    {
     "name": "stdout",
     "output_type": "stream",
     "text": [
      "Length of vocabulary 24589\n"
     ]
    }
   ],
   "source": [
    "vocab_size = len(vocabulary)\n",
    "print(\"Length of vocabulary\", len(vocabulary))"
   ]
  },
  {
   "cell_type": "code",
   "execution_count": 13,
   "id": "f1456128",
   "metadata": {},
   "outputs": [
    {
     "name": "stdout",
     "output_type": "stream",
     "text": [
      "Found 23657 unique tokens.\n",
      "The number of words in the longest sentence 300\n",
      "Shape of X train and X validation tensor: (85536, 300) (21385, 300)\n",
      "Shape of label train and validation tensor: (85536, 909) (21385, 909)\n",
      "Model: \"model\"\n",
      "__________________________________________________________________________________________________\n",
      "Layer (type)                    Output Shape         Param #     Connected to                     \n",
      "==================================================================================================\n",
      "input_1 (InputLayer)            [(None, 300)]        0                                            \n",
      "__________________________________________________________________________________________________\n",
      "embedding (Embedding)           (None, 300, 300)     7097400     input_1[0][0]                    \n",
      "__________________________________________________________________________________________________\n",
      "reshape (Reshape)               (None, 300, 300, 1)  0           embedding[0][0]                  \n",
      "__________________________________________________________________________________________________\n",
      "conv2d (Conv2D)                 (None, 293, 1, 100)  240100      reshape[0][0]                    \n",
      "__________________________________________________________________________________________________\n",
      "conv2d_1 (Conv2D)               (None, 292, 1, 100)  270100      reshape[0][0]                    \n",
      "__________________________________________________________________________________________________\n",
      "max_pooling2d (MaxPooling2D)    (None, 1, 1, 100)    0           conv2d[0][0]                     \n",
      "__________________________________________________________________________________________________\n",
      "max_pooling2d_1 (MaxPooling2D)  (None, 1, 1, 100)    0           conv2d_1[0][0]                   \n",
      "__________________________________________________________________________________________________\n",
      "concatenate (Concatenate)       (None, 2, 1, 100)    0           max_pooling2d[0][0]              \n",
      "                                                                 max_pooling2d_1[0][0]            \n",
      "__________________________________________________________________________________________________\n",
      "flatten (Flatten)               (None, 200)          0           concatenate[0][0]                \n",
      "__________________________________________________________________________________________________\n",
      "dense (Dense)                   (None, 40)           8040        flatten[0][0]                    \n",
      "__________________________________________________________________________________________________\n",
      "dense_1 (Dense)                 (None, 909)          37269       dense[0][0]                      \n",
      "==================================================================================================\n",
      "Total params: 7,652,909\n",
      "Trainable params: 555,509\n",
      "Non-trainable params: 7,097,400\n",
      "__________________________________________________________________________________________________\n",
      "Epoch 1/200\n",
      "86/86 [==============================] - 455s 5s/step - loss: 5.8961 - acc: 0.0396 - val_loss: 4.7741 - val_acc: 0.1516\n",
      "Epoch 2/200\n",
      "86/86 [==============================] - 453s 5s/step - loss: 4.5105 - acc: 0.1911 - val_loss: 3.8721 - val_acc: 0.2794\n",
      "Epoch 3/200\n",
      "86/86 [==============================] - 453s 5s/step - loss: 3.6680 - acc: 0.3091 - val_loss: 3.3068 - val_acc: 0.3561\n",
      "Epoch 4/200\n",
      "86/86 [==============================] - 452s 5s/step - loss: 3.1552 - acc: 0.3751 - val_loss: 2.9747 - val_acc: 0.3992\n",
      "Epoch 5/200\n",
      "86/86 [==============================] - 458s 5s/step - loss: 2.8306 - acc: 0.4192 - val_loss: 2.7377 - val_acc: 0.4330\n",
      "Epoch 6/200\n",
      "86/86 [==============================] - 468s 5s/step - loss: 2.5977 - acc: 0.4523 - val_loss: 2.5720 - val_acc: 0.4590\n",
      "Epoch 7/200\n",
      "86/86 [==============================] - 677s 8s/step - loss: 2.3930 - acc: 0.4844 - val_loss: 2.4324 - val_acc: 0.4772\n",
      "Epoch 8/200\n",
      "86/86 [==============================] - 902s 11s/step - loss: 2.2232 - acc: 0.5113 - val_loss: 2.3121 - val_acc: 0.4987\n",
      "Epoch 9/200\n",
      "86/86 [==============================] - 904s 11s/step - loss: 2.0832 - acc: 0.5367 - val_loss: 2.2366 - val_acc: 0.5134\n",
      "Epoch 10/200\n",
      "86/86 [==============================] - 904s 11s/step - loss: 1.9856 - acc: 0.5517 - val_loss: 2.1675 - val_acc: 0.5258\n",
      "Epoch 11/200\n",
      "86/86 [==============================] - 906s 11s/step - loss: 1.8662 - acc: 0.5766 - val_loss: 2.0568 - val_acc: 0.5446\n",
      "Epoch 12/200\n",
      "86/86 [==============================] - 905s 11s/step - loss: 1.7761 - acc: 0.5909 - val_loss: 2.0030 - val_acc: 0.5539\n",
      "Epoch 13/200\n",
      "86/86 [==============================] - 905s 11s/step - loss: 1.6729 - acc: 0.6142 - val_loss: 1.9373 - val_acc: 0.5665\n",
      "Epoch 14/200\n",
      "86/86 [==============================] - 773s 9s/step - loss: 1.5994 - acc: 0.6258 - val_loss: 1.8879 - val_acc: 0.5802\n",
      "Epoch 15/200\n",
      "86/86 [==============================] - 453s 5s/step - loss: 1.5166 - acc: 0.6433 - val_loss: 1.8661 - val_acc: 0.5831\n",
      "Epoch 16/200\n",
      "86/86 [==============================] - 453s 5s/step - loss: 1.4635 - acc: 0.6537 - val_loss: 1.7853 - val_acc: 0.6001\n",
      "Epoch 17/200\n",
      "86/86 [==============================] - 452s 5s/step - loss: 1.4012 - acc: 0.6661 - val_loss: 1.7703 - val_acc: 0.6001\n",
      "Epoch 18/200\n",
      "86/86 [==============================] - 1577s 18s/step - loss: 1.3527 - acc: 0.6757 - val_loss: 1.7587 - val_acc: 0.6047\n",
      "Epoch 19/200\n",
      "86/86 [==============================] - 1759s 20s/step - loss: 1.2838 - acc: 0.6920 - val_loss: 1.7148 - val_acc: 0.6170\n",
      "Epoch 20/200\n",
      "86/86 [==============================] - 1757s 20s/step - loss: 1.2392 - acc: 0.7020 - val_loss: 1.7356 - val_acc: 0.6135\n"
     ]
    },
    {
     "data": {
      "image/png": "[encoded data removed]",
      "text/plain": [
       "<Figure size 432x288 with 1 Axes>"
      ]
     },
     "metadata": {
      "needs_background": "light"
     },
     "output_type": "display_data"
    }
   ],
   "source": [
    "model, history = cnn(X_train, X_test, Y_train, Y_test, wordembeddings, vocab_size)"
   ]
  },
  {
   "cell_type": "code",
   "execution_count": null,
   "id": "8ef5952c",
   "metadata": {},
   "outputs": [],
   "source": []
  }
 ],
 "metadata": {
  "kernelspec": {
   "display_name": "Python 3",
   "language": "python",
   "name": "python3"
  },
  "language_info": {
   "codemirror_mode": {
    "name": "ipython",
    "version": 3
   },
   "file_extension": ".py",
   "mimetype": "text/x-python",
   "name": "python",
   "nbconvert_exporter": "python",
   "pygments_lexer": "ipython3",
   "version": "3.8.8"
  }
 },
 "nbformat": 4,
 "nbformat_minor": 5
}
