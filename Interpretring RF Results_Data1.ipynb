{
 "cells": [
  {
   "cell_type": "code",
   "execution_count": null,
   "metadata": {},
   "outputs": [],
   "source": [
    "import pandas as pd\n",
    "import config\n",
    "import pickle\n",
    "from sklearn.model_selection import train_test_split\n",
    "from sklearn.ensemble import RandomForestClassifier\n",
    "import numpy as np\n",
    "from sklearn.metrics import accuracy_score\n",
    "import matplotlib.pyplot as plt\n",
    "from matplotlib.pyplot import figure"
   ]
  },
  {
   "cell_type": "code",
   "execution_count": null,
   "metadata": {},
   "outputs": [],
   "source": [
    "import warnings\n",
    "warnings.filterwarnings(\"ignore\", category=DeprecationWarning) "
   ]
  },
  {
   "cell_type": "code",
   "execution_count": null,
   "metadata": {},
   "outputs": [],
   "source": [
    "def readTestFiles():\n",
    "    X_train = pd.read_csv(config.X_train_data1, index_col = False)\n",
    "    X_test = pd.read_csv(config.X_test_data1, index_col = False)\n",
    "    Y_train = pd.read_csv(config.Y_train_data1, index_col = False)\n",
    "    Y_test = pd.read_csv(config.Y_test_data1, index_col = False)\n",
    "\n",
    "    return X_train, X_test, Y_train, Y_test"
   ]
  },
  {
   "cell_type": "code",
   "execution_count": null,
   "metadata": {},
   "outputs": [],
   "source": [
    "def importantFeatures(X_train):\n",
    "    rf = pickle.load(open(config.rf_model_data1, 'rb'))\n",
    "    names = list(X_train.columns)\n",
    "    importances = rf.feature_importances_\n",
    "    indices = np.argsort(importances)[::-1]\n",
    "    new_indices = indices[:20]\n",
    "    features = X_train.columns[indices]\n",
    "    indices = rf.feature_importances_[indices]\n",
    "    f1 = features\n",
    "    i1 = indices\n",
    "    features = list(features[:20])\n",
    "    indices = list(indices[:20])\n",
    "    print(features)\n",
    "    print(indices)\n",
    "    return features, indices, f1, i1"
   ]
  },
  {
   "cell_type": "code",
   "execution_count": null,
   "metadata": {},
   "outputs": [],
   "source": [
    "def featurePlot(features, indices, X_train, X_test, Y_train, Y_test):\n",
    "    acc = []\n",
    "    for i in range(1, 55):\n",
    "        x = X_train[features[:i]]\n",
    "        R = RandomForestClassifier()\n",
    "        R.fit(x, Y_train)\n",
    "        xtest = X_test[features[:i]]\n",
    "        y_pred = R.predict(xtest)\n",
    "        acc1 = accuracy_score(y_pred, Y_test)\n",
    "        print(acc1)\n",
    "        acc.append(acc1)\n",
    "    return acc\n"
   ]
  },
  {
   "cell_type": "code",
   "execution_count": null,
   "metadata": {},
   "outputs": [],
   "source": [
    "def plotFeatureImportance(features, indices):\n",
    "    figure(figsize=(8, 6), dpi=80)\n",
    "    x1 = [i for i in features[::-1]]\n",
    "    x2 = [i for i in indices[::-1]]\n",
    "    plt.barh(x1, x2, align = 'center')\n",
    "    #plt.yticks(range(n), [features[i] for i in indices[-n:]])\n",
    "    plt.xticks([0, 0.0025, 0.005, 0.0075, 0.01, 0.0125, 0.015, 0.0175, 0.02, 0.0225, 0.025])\n",
    "    plt.xlabel('Relative Importance')\n",
    "    plt.ylabel('Features')\n",
    "    plt.title('Feature Importance plot on Dataset 1')\n",
    "    plt.savefig('/home/ubuntu/asset_classification/plots/feature_importances_dataset3.png')"
   ]
  },
  {
   "cell_type": "code",
   "execution_count": null,
   "metadata": {},
   "outputs": [],
   "source": [
    "def main():\n",
    "    X_train, X_test, Y_train, Y_test = readTestFiles()\n",
    "    features, indices, f1, i1 = importantFeatures(X_train)\n",
    "    plotFeatureImportance(features, indices)\n",
    "    acc = featurePlot(f1, i1,  X_train, X_test, Y_train, Y_test)\n",
    "    return features, indices, acc\n"
   ]
  },
  {
   "cell_type": "code",
   "execution_count": null,
   "metadata": {},
   "outputs": [],
   "source": [
    "features, indices, acc = main()"
   ]
  },
  {
   "cell_type": "code",
   "execution_count": null,
   "metadata": {},
   "outputs": [],
   "source": [
    "plt.plot(list(range(0, 54)), acc)\n",
    "plt.xticks([1, 5, 10, 15, 20, 25, 30, 35, 40, 45, 50, 55])\n",
    "plt.yticks([0.05, 0.1, 0.15, 0.2, 0.25, 0.3, 0.35, 0.4, 0.45, 0.5, 0.55, 0.6])\n",
    "plt.xlabel('Number of Top Features Selected')\n",
    "plt.ylabel('Accuracy Obtained')\n",
    "plt.savefig('1.png')"
   ]
  },
  {
   "cell_type": "code",
   "execution_count": null,
   "metadata": {},
   "outputs": [],
   "source": []
  }
 ],
 "metadata": {
  "kernelspec": {
   "display_name": "Python 3",
   "language": "python",
   "name": "python3"
  },
  "language_info": {
   "codemirror_mode": {
    "name": "ipython",
    "version": 3
   },
   "file_extension": ".py",
   "mimetype": "text/x-python",
   "name": "python",
   "nbconvert_exporter": "python",
   "pygments_lexer": "ipython3",
   "version": "3.8.8"
  }
 },
 "nbformat": 4,
 "nbformat_minor": 4
}
