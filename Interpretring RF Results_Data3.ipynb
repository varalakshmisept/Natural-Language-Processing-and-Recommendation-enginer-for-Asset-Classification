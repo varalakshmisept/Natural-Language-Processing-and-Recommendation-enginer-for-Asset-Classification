{
 "cells": [
  {
   "cell_type": "code",
   "execution_count": null,
   "metadata": {},
   "outputs": [],
   "source": [
    "import pandas as pd\n",
    "import config\n",
    "import pickle\n",
    "from sklearn.model_selection import train_test_split\n",
    "from sklearn.ensemble import RandomForestClassifier\n",
    "import numpy as np\n",
    "from sklearn.metrics import accuracy_score\n",
    "import matplotlib.pyplot as plt\n",
    "from matplotlib.pyplot import figure\n",
    "import random"
   ]
  },
  {
   "cell_type": "code",
   "execution_count": null,
   "metadata": {},
   "outputs": [],
   "source": [
    "import warnings\n",
    "warnings.filterwarnings(\"ignore\", category=DeprecationWarning) "
   ]
  },
  {
   "cell_type": "code",
   "execution_count": null,
   "metadata": {},
   "outputs": [],
   "source": [
    "def read_files():\n",
    "    df = pd.read_csv(config.datasets_dir + config.optimized_dataset)\n",
    "    df['ASSET_CLASS'] = pd.Categorical(df['ASSET_CLASS'])\n",
    "    df['ASSET_CLASS_CODES'] = df['ASSET_CLASS'].cat.codes\n",
    "    return df"
   ]
  },
  {
   "cell_type": "code",
   "execution_count": null,
   "metadata": {},
   "outputs": [],
   "source": [
    "def trainTestSplit(df,n):\n",
    "    random.seed(123)\n",
    "    df1 = df['ASSET_CLASS'].value_counts().rename_axis('Assets').reset_index(name = 'counts')\n",
    "    df_new = df1[df1['counts']>=n] # Train Test split 75% - train   \n",
    "    assets = list(df_new['Assets'])\n",
    "    dffiltered = df[df['ASSET_CLASS'].isin(assets)]\n",
    "    x = dffiltered.drop(columns = ['ASSET_CLASS','important_words','BUSINESS_UNIT','PSC_CODE','FUND_SUBOBJCLASS','ORDER_DATE','ORDER_TITLE','ASSET_CLASS_CODES',                                                                                                                                                           \n",
    "            'LINE_DESCRIPTION', 'VENDOR_NAME', 'VENDOR_COUNTRY', 'ASSET_CLASS_DESCRIPTION','text_fields','ASSET_CLASS_OLD','SUB_OBJ_DESCR','OBJ_CODE'])\n",
    "    xcols = list(x.columns)\n",
    "    y = dffiltered['ASSET_CLASS_CODES']\n",
    "    X_train, X_test, Y_train, Y_test = train_test_split(x,y, test_size = 0.20, stratify = y)\n",
    "    print(' Number of Assets ' + str(len(set(list(dffiltered['ASSET_CLASS'])))))\n",
    "    print(X_train.shape)\n",
    "    return X_train, X_test, Y_train, Y_test"
   ]
  },
  {
   "cell_type": "code",
   "execution_count": null,
   "metadata": {},
   "outputs": [],
   "source": [
    "def importantFeatures(X_train):\n",
    "    rf = pickle.load(open(config.rf_model_data3, 'rb'))\n",
    "    names = list(X_train.columns)\n",
    "    importances = rf.feature_importances_\n",
    "    indices = np.argsort(importances)[::-1]\n",
    "    new_indices = indices[:20]\n",
    "    features = X_train.columns[indices]\n",
    "    indices = rf.feature_importances_[indices]\n",
    "    f1 = features\n",
    "    i1 = indices\n",
    "    features = list(features[:20])\n",
    "    indices = list(indices[:20])\n",
    "    print(features)\n",
    "    print(indices)\n",
    "    return features, indices, f1, i1"
   ]
  },
  {
   "cell_type": "code",
   "execution_count": null,
   "metadata": {},
   "outputs": [],
   "source": [
    "def featurePlot(features, indices, X_train, X_test, Y_train, Y_test):\n",
    "    acc = []\n",
    "    for i in range(1, 55):\n",
    "        x = X_train[features[:i]]\n",
    "        R = RandomForestClassifier()\n",
    "        R.fit(x, Y_train)\n",
    "        xtest = X_test[features[:i]]\n",
    "        y_pred = R.predict(xtest)\n",
    "        acc1 = accuracy_score(y_pred, Y_test)\n",
    "        print(acc1)\n",
    "        acc.append(acc1)\n",
    "    return acc\n"
   ]
  },
  {
   "cell_type": "code",
   "execution_count": null,
   "metadata": {},
   "outputs": [],
   "source": [
    "def plotFeatureImportance(features, indices):\n",
    "    figure(figsize=(8, 6), dpi=80)\n",
    "    x1 = [i for i in features[::-1]]\n",
    "    x2 = [i for i in indices[::-1]]\n",
    "    plt.barh(x1, x2, align = 'center')\n",
    "    #plt.yticks(range(n), [features[i] for i in indices[-n:]])\n",
    "    plt.xticks([0, 0.025, 0.05, 0.075, 0.1, 0.125, 0.15, 0.175, 0.2, 0.225, 0.25, 0.275])\n",
    "    plt.xlabel('Relative Importance')\n",
    "    plt.ylabel('Features')\n",
    "    plt.title('Feature Importance plot on Dataset 3')\n",
    "    plt.savefig('/home/ubuntu/asset_classification/plots/feature_importances_dataset1.png')"
   ]
  },
  {
   "cell_type": "code",
   "execution_count": null,
   "metadata": {},
   "outputs": [],
   "source": [
    "def main():\n",
    "    df = read_files()\n",
    "    X_train, X_test, Y_train, Y_test = trainTestSplit(df,100)\n",
    "    features, indices, f1, i1 = importantFeatures(X_train)\n",
    "    plotFeatureImportance(features, indices)\n",
    "    acc = featurePlot(f1, i1,  X_train, X_test, Y_train, Y_test)\n",
    "    return features, indices, acc\n"
   ]
  },
  {
   "cell_type": "code",
   "execution_count": null,
   "metadata": {},
   "outputs": [],
   "source": [
    "plotFeatureImportance(features, indices)"
   ]
  },
  {
   "cell_type": "code",
   "execution_count": null,
   "metadata": {},
   "outputs": [],
   "source": [
    "#features, indices, acc = main()\n"
   ]
  },
  {
   "cell_type": "code",
   "execution_count": null,
   "metadata": {},
   "outputs": [],
   "source": [
    "plt.plot(list(range(0, 54)), acc)\n",
    "plt.xticks([1, 5, 10, 15, 20, 25, 30, 35, 40, 45, 50, 55])\n",
    "plt.xlabel('Number of Top Features Selected')\n",
    "plt.ylabel('Accuracy Obtained')\n",
    "plt.savefig('1.png')"
   ]
  },
  {
   "cell_type": "code",
   "execution_count": null,
   "metadata": {},
   "outputs": [],
   "source": []
  }
 ],
 "metadata": {
  "kernelspec": {
   "display_name": "Python 3",
   "language": "python",
   "name": "python3"
  },
  "language_info": {
   "codemirror_mode": {
    "name": "ipython",
    "version": 3
   },
   "file_extension": ".py",
   "mimetype": "text/x-python",
   "name": "python",
   "nbconvert_exporter": "python",
   "pygments_lexer": "ipython3",
   "version": "3.7.6"
  }
 },
 "nbformat": 4,
 "nbformat_minor": 5
}
