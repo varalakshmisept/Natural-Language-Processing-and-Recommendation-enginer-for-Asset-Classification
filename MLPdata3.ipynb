{
 "cells": [
  {
   "cell_type": "code",
   "execution_count": 22,
   "metadata": {},
   "outputs": [],
   "source": [
    "import pandas as pd\n",
    "from sklearn.model_selection import train_test_split\n",
    "import config\n",
    "import random\n",
    "from sklearn.metrics import accuracy_score\n",
    "from sklearn.metrics import precision_score\n",
    "from sklearn.metrics import recall_score\n",
    "from sklearn.metrics import f1_score\n",
    "from sklearn.neural_network import MLPClassifier\n",
    "from keras.models import Sequential\n",
    "from keras.layers import Dense\n",
    "from keras.callbacks import EarlyStopping\n",
    "from keras.utils import np_utils\n",
    "from matplotlib import pyplot\n",
    "from keras.callbacks import History \n",
    "import h5py"
   ]
  },
  {
   "cell_type": "code",
   "execution_count": 23,
   "metadata": {},
   "outputs": [],
   "source": [
    "def read_files():\n",
    "    tfidf_df = pd.read_csv(config.datasets_dir + config.optimized_dataset)\n",
    "    #print(list(tfidf_df.columns)[:30])\n",
    "    #clean_df = pd.read_csv(config.datasets_dir + config.optimized_dataset)\n",
    "    df = tfidf_df\n",
    "    #df['ASSET_CLASS'] = clean_df['ASSET_CLASS']\n",
    "    #df['ASSET_CLASS'] = pd.Categorical(df['ASSET_CLASS'])\n",
    "    #df['ASSET_CLASS_CODES'] = df['ASSET_CLASS'].cat.codes\n",
    "    return df"
   ]
  },
  {
   "cell_type": "code",
   "execution_count": 24,
   "metadata": {},
   "outputs": [],
   "source": [
    "def scores(y_pred, Y_test):\n",
    "    print('Accuracy:   '+str(accuracy_score(y_pred, Y_test)))\n",
    "    print('Precision Macro:   '+ str(precision_score(y_pred, Y_test,average = 'macro')))\n",
    "    print('Recall Macro:     '+str(recall_score(y_pred, Y_test, average = 'macro')))\n",
    "    print('F1 Score Macro:     '+str(f1_score(y_pred, Y_test, average = 'macro')))\n",
    "    print('\\n')"
   ]
  },
  {
   "cell_type": "code",
   "execution_count": 25,
   "metadata": {},
   "outputs": [],
   "source": [
    "def trainTestSplit(df,n):\n",
    "    random.seed(123)\n",
    "    df1 = df['ASSET_CLASS'].value_counts().rename_axis('Assets').reset_index(name = 'counts')\n",
    "    df_new = df1[df1['counts']>=n] # Train Test split 75% - train\n",
    "    assets = list(df_new['Assets'])\n",
    "    dffiltered = df[df['ASSET_CLASS'].isin(assets)]\n",
    "    dffiltered['ASSET_CLASS_CODES'] = pd.Categorical(dffiltered['ASSET_CLASS'])\n",
    "    dffiltered['ASSET_CLASS_CODES'] = dffiltered['ASSET_CLASS_CODES'].cat.codes\n",
    "    x = dffiltered.drop(columns = ['ASSET_CLASS','ASSET_CLASS_CODES','important_words','BUSINESS_UNIT','PSC_CODE','FUND_SUBOBJCLASS','ORDER_DATE','ORDER_TITLE',                                                                                                                                                      \n",
    "            'LINE_DESCRIPTION', 'VENDOR_NAME', 'VENDOR_COUNTRY', 'ASSET_CLASS_DESCRIPTION','text_fields','ASSET_CLASS_OLD','SUB_OBJ_DESCR','OBJ_CODE'])\n",
    "    xcols = list(x.columns)\n",
    "    y = dffiltered['ASSET_CLASS_CODES']\n",
    "    X_train, X_test, Y_train, Y_test = train_test_split(x,y, test_size = 0.20, stratify = y)\n",
    "    print(' Number of Assets ' + str(len(set(list(dffiltered['ASSET_CLASS'])))))\n",
    "    #dict_codes = pd.Series(df.ASSET_CLASS.values, index = df.ASSET_CLASS_CODES).to_dict()\n",
    "    return X_train, X_test, Y_train, Y_test"
   ]
  },
  {
   "cell_type": "code",
   "execution_count": 26,
   "metadata": {},
   "outputs": [],
   "source": [
    "\n",
    "def MLP(X_train, X_test, Y_train, Y_test):\n",
    "    print(X_train.shape)\n",
    "    print(X_train.shape[1])\n",
    "\n",
    "    model = Sequential()\n",
    "    model.add(Dense(1000, input_dim = X_train.shape[1],activation = 'softmax'))\n",
    "    model.add(Dense(750, activation = 'softmax'))\n",
    "    model.add(Dense(500, activation = 'softmax'))\n",
    "    model.add(Dense(61, activation = 'softmax'))\n",
    "    # compile keras\n",
    "    model.compile(loss='sparse_categorical_crossentropy', optimizer = 'adam', metrics = ['accuracy'])\n",
    "    model.summary()\n",
    "    # Early stopping\n",
    "    es = EarlyStopping(monitor = 'val_loss', verbose=3.1, patience = 20, min_delta = 1)\n",
    "    # Fit the keras\n",
    "    history = model.fit(X_train, Y_train, epochs = 500, batch_size = 32, validation_split = 0.1,verbose = 1,callbacks=[es])\n",
    "    # Model Evaluation\n",
    "    _, train_acc = model.evaluate(X_train, Y_train, verbose =2)\n",
    "    _, test_acc = model.evaluate(X_test, Y_test, verbose=2)\n",
    "    print('Train Accuracy  '+str(train_acc))\n",
    "    print('Test Accuracy   '+str(test_acc))\n",
    "    y_pred = model.predict_classes(X_test)\n",
    "    scores(y_pred, Y_test)\n",
    "    pyplot.plot(history.history['loss'], label = 'train')\n",
    "    pyplot.plot(history.history['val_loss'], label = 'Validation')\n",
    "    pyplot.xlabel('Epochs')\n",
    "    pyplot.ylabel('Validation Loss')\n",
    "    pyplot.legend()\n",
    "    pyplot.show()\n",
    "    \n",
    "    # save best Model\n",
    "    #mc = ModelCheckpoint(config.mlp_model_data2, monitor='val_loss',verbose=1, save_best_only=True)\n",
    "\n",
    "    "
   ]
  },
  {
   "cell_type": "code",
   "execution_count": 31,
   "metadata": {},
   "outputs": [],
   "source": [
    "def main():\n",
    "    df = read_files()\n",
    "    n = 100\n",
    "    X_train, X_test, Y_train, Y_test = trainTestSplit(df,n)\n",
    "    print(X_train.shape, X_test.shape, Y_train.shape, Y_test.shape)\n",
    "    #MLP(X_train, X_test, Y_train, Y_test)\n",
    "    res = df['LINE_DESCRIPTION'].str.split().str.len().min()\n",
    "    print(res)\n",
    "    #print(len(Y_train.unique()))"
   ]
  },
  {
   "cell_type": "code",
   "execution_count": 32,
   "metadata": {},
   "outputs": [
    {
     "name": "stderr",
     "output_type": "stream",
     "text": [
      "/snap/jupyter/6/lib/python3.7/site-packages/IPython/core/interactiveshell.py:3296: DtypeWarning: Columns (2) have mixed types.Specify dtype option on import or set low_memory=False.\n",
      "  exec(code_obj, self.user_global_ns, self.user_ns)\n",
      "/snap/jupyter/6/lib/python3.7/site-packages/ipykernel_launcher.py:7: SettingWithCopyWarning: \n",
      "A value is trying to be set on a copy of a slice from a DataFrame.\n",
      "Try using .loc[row_indexer,col_indexer] = value instead\n",
      "\n",
      "See the caveats in the documentation: https://pandas.pydata.org/pandas-docs/stable/user_guide/indexing.html#returning-a-view-versus-a-copy\n",
      "  import sys\n",
      "/snap/jupyter/6/lib/python3.7/site-packages/ipykernel_launcher.py:8: SettingWithCopyWarning: \n",
      "A value is trying to be set on a copy of a slice from a DataFrame.\n",
      "Try using .loc[row_indexer,col_indexer] = value instead\n",
      "\n",
      "See the caveats in the documentation: https://pandas.pydata.org/pandas-docs/stable/user_guide/indexing.html#returning-a-view-versus-a-copy\n",
      "  \n"
     ]
    },
    {
     "name": "stdout",
     "output_type": "stream",
     "text": [
      " Number of Assets 61\n",
      "(85524, 169) (21382, 169) (85524,) (21382,)\n",
      "1.0\n"
     ]
    }
   ],
   "source": [
    "main()"
   ]
  },
  {
   "cell_type": "code",
   "execution_count": 1,
   "metadata": {},
   "outputs": [
    {
     "name": "stdout",
     "output_type": "stream",
     "text": [
      "Requirement already satisfied: h5py in /home/ubuntu/snap/jupyter/common/lib/python3.7/site-packages (2.10.0)\r\n",
      "Requirement already satisfied: numpy>=1.7 in /home/ubuntu/snap/jupyter/common/lib/python3.7/site-packages (from h5py) (1.19.5)\r\n",
      "Requirement already satisfied: six in /home/ubuntu/snap/jupyter/common/lib/python3.7/site-packages (from h5py) (1.15.0)\r\n"
     ]
    }
   ],
   "source": []
  },
  {
   "cell_type": "code",
   "execution_count": null,
   "metadata": {},
   "outputs": [],
   "source": [
    "\n",
    "print(max(sentences, key=len))\n"
   ]
  }
 ],
 "metadata": {
  "kernelspec": {
   "display_name": "Python 3",
   "language": "python",
   "name": "python3"
  },
  "language_info": {
   "codemirror_mode": {
    "name": "ipython",
    "version": 3
   },
   "file_extension": ".py",
   "mimetype": "text/x-python",
   "name": "python",
   "nbconvert_exporter": "python",
   "pygments_lexer": "ipython3",
   "version": "3.8.8"
  }
 },
 "nbformat": 4,
 "nbformat_minor": 4
}
