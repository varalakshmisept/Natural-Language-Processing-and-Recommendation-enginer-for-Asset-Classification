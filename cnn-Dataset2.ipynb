{
 "cells": [
  {
   "cell_type": "code",
   "execution_count": 1,
   "id": "fb32a3a9",
   "metadata": {},
   "outputs": [],
   "source": [
    "from sklearn.preprocessing import LabelEncoder\n",
    "import config\n",
    "from keras.preprocessing.sequence import pad_sequences\n",
    "import re\n",
    "import pandas as pd\n",
    "from sklearn.model_selection import train_test_split\n",
    "import random\n",
    "import boto3\n",
    "import numpy as np\n",
    "from keras.preprocessing.text import Tokenizer\n",
    "from keras.layers import Embedding\n",
    "from keras.layers import Dense, Input, GlobalMaxPooling1D\n",
    "from keras.layers import Conv1D, MaxPooling1D, Embedding\n",
    "from keras.layers import Input, Dense, Embedding, Conv2D, MaxPooling2D, Dropout,concatenate\n",
    "from keras.layers.core import Reshape, Flatten\n",
    "from keras.callbacks import EarlyStopping\n",
    "import sys\n",
    "from tensorflow import keras"
   ]
  },
  {
   "cell_type": "code",
   "execution_count": 2,
   "id": "35927ce7",
   "metadata": {},
   "outputs": [],
   "source": [
    "from keras import regularizers\n",
    "from keras.models import Model\n",
    "import matplotlib.pyplot as plt\n",
    "from keras.optimizers import SGD, RMSprop, Adagrad, Adadelta, Adam, Adamax, Nadam\n",
    "import warnings\n",
    "warnings.filterwarnings(\"ignore\", category=DeprecationWarning)"
   ]
  },
  {
   "cell_type": "code",
   "execution_count": 3,
   "id": "d9345b96",
   "metadata": {},
   "outputs": [],
   "source": [
    "def trainTestSplit(df,n):\n",
    "    random.seed(123)\n",
    "    df1 = df['ASSET_CLASS'].value_counts().rename_axis('Assets').reset_index(name = 'counts')\n",
    "    df_new = df1[df1['counts']>=n] # Train Test split 75% - train\n",
    "    assets = list(df_new['Assets'])\n",
    "    dffiltered = df[df['ASSET_CLASS'].isin(assets)]\n",
    "    dffiltered['ASSET_CLASS_CODES'] = pd.Categorical(dffiltered['ASSET_CLASS'])\n",
    "    dffiltered['ASSET_CLASS_CODES'] = dffiltered['ASSET_CLASS_CODES'].cat.codes\n",
    "    #x = dffiltered.drop(columns = ['ASSET_CLASS','ASSET_CLASS_CODES','BUSINESS_UNIT','PSC_CODE','FUND_SUBOBJCLASS','ORDER_DATE','ORDER_TITLE',                                                                                                                                                      \n",
    "     #       'LINE_DESCRIPTION', 'VENDOR_NAME', 'VENDOR_COUNTRY', 'ASSET_CLASS_DESCRIPTION','text_fields','SUB_OBJ_DESCR','OBJ_CODE'])\n",
    "    #x = dffiltered[['text_fields', 'ASSET_CLASS_CODES']]\n",
    "    \n",
    "    x = dffiltered['text_fields']\n",
    "    #xcols = list(x.columns)\n",
    "    y = pd.get_dummies(dffiltered['ASSET_CLASS_CODES'])\n",
    "    # creating instance of labelencoder    \n",
    "    X_train, X_test, Y_train, Y_test = train_test_split(x,y, test_size = 0.20, stratify = y)\n",
    "    print(' Number of Assets ' + str(len(set(list(dffiltered['ASSET_CLASS'])))))\n",
    "    #dict_codes = pd.Series(df.ASSET_CLASS.values, index = df.ASSET_CLASS_CODES).to_dict()\n",
    "    return X_train, X_test,  Y_train, Y_test"
   ]
  },
  {
   "cell_type": "code",
   "execution_count": 4,
   "id": "44f7df2b",
   "metadata": {},
   "outputs": [],
   "source": [
    "def scores(y_pred, Y_test):\n",
    "    print('Accuracy:   '+str(accuracy_score(y_pred, Y_test)))\n",
    "    print('Precision Macro:   '+ str(precision_score(y_pred, Y_test,average = 'macro')))\n",
    "    print('Recall Macro:     '+str(recall_score(y_pred, Y_test, average = 'macro')))\n",
    "    print('F1 Score Macro:     '+str(f1_score(y_pred, Y_test, average = 'macro')))\n",
    "    print('\\n')"
   ]
  },
  {
   "cell_type": "code",
   "execution_count": 5,
   "id": "e0139376",
   "metadata": {},
   "outputs": [],
   "source": [
    "def generateEmbeddingIndex():\n",
    "    print('Indexing word vectors.')\n",
    "    embeddings_index = {}\n",
    "    with open((config.utils_dir+config.glove_txt_300d)) as f:\n",
    "        for line in f:\n",
    "            word, coefs = line.split(maxsplit=1)\n",
    "            coefs = np.fromstring(coefs, 'f', sep=' ')\n",
    "            embeddings_index[word] = coefs\n",
    "\n",
    "    print('Found %s word vectors.' % len(embeddings_index))\n",
    "    return embeddings_index"
   ]
  },
  {
   "cell_type": "code",
   "execution_count": 6,
   "id": "055158c6",
   "metadata": {},
   "outputs": [],
   "source": [
    "def scores(y_pred, Y_test):\n",
    "    print('Accuracy:   '+str(accuracy_score(y_pred, Y_test)))\n",
    "    print('Precision Macro:   '+ str(precision_score(y_pred, Y_test,average = 'macro')))\n",
    "    print('Recall Macro:     '+str(recall_score(y_pred, Y_test, average = 'macro')))\n",
    "    print('F1 Score Macro:     '+str(f1_score(y_pred, Y_test, average = 'macro')))\n",
    "    print('\\n')"
   ]
  },
  {
   "cell_type": "code",
   "execution_count": 7,
   "id": "7ceeafcc",
   "metadata": {},
   "outputs": [],
   "source": [
    "#Tokenize text of the training data with keras text preprocessing functions\n",
    "def cnn(X_train, X_test, Y_train, Y_test, wordembeddings, vocab_size):\n",
    "    \n",
    "    #NUM_WORDS = vocab_size\n",
    "    EMBEDDING_DIM=300\n",
    "    tokenizer = Tokenizer(filters='!\"#$%&()*+,-./:;<=>?@[\\\\]^_`{|}~\\t\\n\\'',\n",
    "                      lower=True)\n",
    "    tokenizer.fit_on_texts(X_train)\n",
    "    word_index = tokenizer.word_index\n",
    "    print('Found %s unique tokens.' % len(word_index))\n",
    "    \n",
    "    sequences_train = tokenizer.texts_to_sequences(X_train)\n",
    "    sequences_valid=tokenizer.texts_to_sequences(X_test)\n",
    "    \n",
    "    max_length_sentence = X_train.str.split().str.len().max()\n",
    "    print(\"The number of words in the longest sentence\", max_length_sentence)\n",
    "    \n",
    "    X_train = pad_sequences(sequences_train,maxlen=max_length_sentence)\n",
    "    X_val = pad_sequences(sequences_valid,maxlen=X_train.shape[1])\n",
    "    \n",
    "    y_train = np.asarray(Y_train)\n",
    "    y_val = np.asarray(Y_test)\n",
    "    \n",
    "    print('Shape of X train and X validation tensor:', X_train.shape,X_val.shape)\n",
    "    print('Shape of label train and validation tensor:', y_train.shape,y_val.shape)\n",
    "    \n",
    "    \n",
    "    EMBEDDING_DIM=300\n",
    "    vocabulary_size=len(word_index)+1\n",
    "    embedding_matrix = np.zeros((vocabulary_size, EMBEDDING_DIM))\n",
    "    \n",
    "    for word, i in word_index.items():\n",
    "        try:\n",
    "            embedding_vector = model[word]\n",
    "        except:\n",
    "            try:\n",
    "                embedding_vector = model[word.title()]\n",
    "            except:\n",
    "                try:\n",
    "                    embedding_vector = model[word.upper()]\n",
    "                except:\n",
    "                     embedding_vector = np.array([round(np.random.rand(),8) for i in range(0,300)])\n",
    "\n",
    "        if embedding_vector is not None:\n",
    "            embedding_matrix[i] = embedding_vector\n",
    "\n",
    "    embedding_layer = Embedding(vocabulary_size,\n",
    "                            EMBEDDING_DIM,\n",
    "                            weights=[embedding_matrix],\n",
    "                            trainable=False) #Try with True\n",
    "    \n",
    "    \n",
    "    \n",
    "    sequence_length = X_train.shape[1]\n",
    "    filter_sizes = [5,6]\n",
    "    num_filters = 100\n",
    "    drop = 0.1\n",
    "\n",
    "    inputs = Input(shape=(sequence_length,))\n",
    "    embedding = embedding_layer(inputs)\n",
    "    reshape = Reshape((sequence_length,EMBEDDING_DIM,1))(embedding)\n",
    "    \n",
    "    conv_0 = Conv2D(num_filters, (filter_sizes[0], EMBEDDING_DIM),activation='relu')(reshape)\n",
    "    conv_1 = Conv2D(num_filters, (filter_sizes[1], EMBEDDING_DIM),activation='relu')(reshape)\n",
    "    \n",
    "\n",
    "    maxpool_0 = MaxPooling2D((sequence_length - filter_sizes[0] + 1, 1), strides=(1,1))(conv_0)\n",
    "    maxpool_1 = MaxPooling2D((sequence_length - filter_sizes[1] + 1, 1), strides=(1,1))(conv_1)\n",
    "\n",
    "    merged_tensor = concatenate([maxpool_0, maxpool_1], axis=1)\n",
    "    flatten = Flatten()(merged_tensor)\n",
    "    reshape = Reshape((2*num_filters,))(flatten)\n",
    "    #dropout = Dropout(drop)(flatten)\n",
    "    conc = Dense(40)(flatten)\n",
    "    output = Dense(units=Y_train.shape[1], activation='softmax')(conc)\n",
    "\n",
    "    # this creates a model that includes\n",
    "    model = Model(inputs, output)\n",
    "    \n",
    "    # Compiling Model using optimizer\n",
    "    opt = Adam(lr=1e-3)\n",
    "    model.compile(loss='categorical_crossentropy',optimizer=opt,metrics=['acc'])\n",
    "    model.summary()\n",
    "    \n",
    "    \n",
    "    # Fitting Model to the data\n",
    "    callbacks = [EarlyStopping(monitor='val_loss')]\n",
    "    hist_adam = model.fit(X_train, y_train, batch_size=1000, epochs=200, verbose=1, validation_data=(X_val, y_val),\n",
    "             callbacks=callbacks)\n",
    "    \n",
    "    \n",
    "    plt.suptitle('Optimizer : Adam', fontsize=10)\n",
    "    plt.ylabel('Loss', fontsize=16)\n",
    "    plt.xlabel('Epoch', fontsize=14)\n",
    "    plt.plot(hist_adam.history['loss'], color='b', label='Training Loss')\n",
    "    plt.plot(hist_adam.history['val_loss'], color='r', label='Validation Loss')\n",
    "    plt.legend(loc='upper right')\n",
    "    plt.savefig('/home/ubuntu/asset_classification/results/cnn_model_plot_dataset2.png')\n",
    "    #y_pred = model.predict(X_test)\n",
    "    #scores(y_pred, Y_test)\n",
    "    model.save(config.cnn_dataset2)\n",
    "    return model,hist_adam\n"
   ]
  },
  {
   "cell_type": "code",
   "execution_count": 8,
   "id": "d055b921",
   "metadata": {},
   "outputs": [],
   "source": [
    "def main():\n",
    "    #data_location = connect()\n",
    "    df = read_files()\n",
    "    df = df.replace(np.nan, '', regex = True)\n",
    "\n",
    "    X_train, X_test, Y_train, Y_test = trainTestSplit(df,100)\n",
    "\n",
    "    # wordembeddings\n",
    "    wordembeddings = generateEmbeddingIndex()\n",
    "    print(wordembeddings)\n",
    "    \n",
    "    #cnn(X_train, X_test, Y_train, Y_test, wordembeddings)\n",
    "    print(len(wordembeddings))"
   ]
  },
  {
   "cell_type": "code",
   "execution_count": 9,
   "id": "4ddad266",
   "metadata": {},
   "outputs": [],
   "source": [
    "df = pd.read_csv(config.datasets_dir + config.preprocessed_filename_deep_learning)\n",
    "#df_optimized = pd.read_csv(config.datasets_dir + config.optimized_dataset)\n",
    "#df['ASSET_CLASS'] = df_optimized['ASSET_CLASS']"
   ]
  },
  {
   "cell_type": "code",
   "execution_count": 10,
   "id": "4e63d0fc",
   "metadata": {},
   "outputs": [
    {
     "name": "stderr",
     "output_type": "stream",
     "text": [
      "<ipython-input-3-fde83473a08c>:7: SettingWithCopyWarning: \n",
      "A value is trying to be set on a copy of a slice from a DataFrame.\n",
      "Try using .loc[row_indexer,col_indexer] = value instead\n",
      "\n",
      "See the caveats in the documentation: https://pandas.pydata.org/pandas-docs/stable/user_guide/indexing.html#returning-a-view-versus-a-copy\n",
      "  dffiltered['ASSET_CLASS_CODES'] = pd.Categorical(dffiltered['ASSET_CLASS'])\n",
      "<ipython-input-3-fde83473a08c>:8: SettingWithCopyWarning: \n",
      "A value is trying to be set on a copy of a slice from a DataFrame.\n",
      "Try using .loc[row_indexer,col_indexer] = value instead\n",
      "\n",
      "See the caveats in the documentation: https://pandas.pydata.org/pandas-docs/stable/user_guide/indexing.html#returning-a-view-versus-a-copy\n",
      "  dffiltered['ASSET_CLASS_CODES'] = dffiltered['ASSET_CLASS_CODES'].cat.codes\n"
     ]
    },
    {
     "name": "stdout",
     "output_type": "stream",
     "text": [
      " Number of Assets 909\n"
     ]
    }
   ],
   "source": [
    "X_train, X_test, Y_train, Y_test = trainTestSplit(df,2)"
   ]
  },
  {
   "cell_type": "code",
   "execution_count": 11,
   "id": "99cd1a7d",
   "metadata": {},
   "outputs": [
    {
     "name": "stdout",
     "output_type": "stream",
     "text": [
      "Indexing word vectors.\n",
      "Found 2195885 word vectors.\n"
     ]
    }
   ],
   "source": [
    "wordembeddings = generateEmbeddingIndex()"
   ]
  },
  {
   "cell_type": "code",
   "execution_count": 12,
   "id": "e75e3112",
   "metadata": {},
   "outputs": [
    {
     "name": "stdout",
     "output_type": "stream",
     "text": [
      "['transformers' 'warehouse' 'location' ... 'subscr' 'medialess' 'pry']\n"
     ]
    }
   ],
   "source": [
    "vocabulary = df[\"text_fields\"].str.lower().str.split(\" \").apply(pd.Series).stack().unique()\n",
    "#cnn(X_train, X_test, Y_train, Y_test, wordembeddings)\n",
    "print(vocabulary)"
   ]
  },
  {
   "cell_type": "code",
   "execution_count": 13,
   "id": "ffe1382b",
   "metadata": {},
   "outputs": [
    {
     "name": "stdout",
     "output_type": "stream",
     "text": [
      "Length of vocabulary 46467\n"
     ]
    }
   ],
   "source": [
    "vocab_size = len(vocabulary)\n",
    "print(\"Length of vocabulary\", len(vocabulary))"
   ]
  },
  {
   "cell_type": "code",
   "execution_count": 14,
   "id": "dadf78eb",
   "metadata": {},
   "outputs": [
    {
     "name": "stdout",
     "output_type": "stream",
     "text": [
      "Found 43918 unique tokens.\n",
      "The number of words in the longest sentence 231\n",
      "Shape of X train and X validation tensor: (85536, 231) (21385, 231)\n",
      "Shape of label train and validation tensor: (85536, 909) (21385, 909)\n",
      "Model: \"model\"\n",
      "__________________________________________________________________________________________________\n",
      "Layer (type)                    Output Shape         Param #     Connected to                     \n",
      "==================================================================================================\n",
      "input_1 (InputLayer)            [(None, 231)]        0                                            \n",
      "__________________________________________________________________________________________________\n",
      "embedding (Embedding)           (None, 231, 300)     13175700    input_1[0][0]                    \n",
      "__________________________________________________________________________________________________\n",
      "reshape (Reshape)               (None, 231, 300, 1)  0           embedding[0][0]                  \n",
      "__________________________________________________________________________________________________\n",
      "conv2d (Conv2D)                 (None, 227, 1, 100)  150100      reshape[0][0]                    \n",
      "__________________________________________________________________________________________________\n",
      "conv2d_1 (Conv2D)               (None, 226, 1, 100)  180100      reshape[0][0]                    \n",
      "__________________________________________________________________________________________________\n",
      "max_pooling2d (MaxPooling2D)    (None, 1, 1, 100)    0           conv2d[0][0]                     \n",
      "__________________________________________________________________________________________________\n",
      "max_pooling2d_1 (MaxPooling2D)  (None, 1, 1, 100)    0           conv2d_1[0][0]                   \n",
      "__________________________________________________________________________________________________\n",
      "concatenate (Concatenate)       (None, 2, 1, 100)    0           max_pooling2d[0][0]              \n",
      "                                                                 max_pooling2d_1[0][0]            \n",
      "__________________________________________________________________________________________________\n",
      "flatten (Flatten)               (None, 200)          0           concatenate[0][0]                \n",
      "__________________________________________________________________________________________________\n",
      "dense (Dense)                   (None, 40)           8040        flatten[0][0]                    \n",
      "__________________________________________________________________________________________________\n",
      "dense_1 (Dense)                 (None, 909)          37269       dense[0][0]                      \n",
      "==================================================================================================\n",
      "Total params: 13,551,209\n",
      "Trainable params: 375,509\n",
      "Non-trainable params: 13,175,700\n",
      "__________________________________________________________________________________________________\n",
      "Epoch 1/200\n",
      "86/86 [==============================] - 176s 2s/step - loss: 5.8541 - acc: 0.0463 - val_loss: 4.7772 - val_acc: 0.1688\n",
      "Epoch 2/200\n",
      "86/86 [==============================] - 174s 2s/step - loss: 4.4970 - acc: 0.1993 - val_loss: 3.8433 - val_acc: 0.2825\n",
      "Epoch 3/200\n",
      "86/86 [==============================] - 173s 2s/step - loss: 3.6615 - acc: 0.3113 - val_loss: 3.3067 - val_acc: 0.3516\n",
      "Epoch 4/200\n",
      "86/86 [==============================] - 172s 2s/step - loss: 3.1607 - acc: 0.3757 - val_loss: 2.9544 - val_acc: 0.4031\n",
      "Epoch 5/200\n",
      "86/86 [==============================] - 173s 2s/step - loss: 2.8360 - acc: 0.4190 - val_loss: 2.7531 - val_acc: 0.4305\n",
      "Epoch 6/200\n",
      "86/86 [==============================] - 171s 2s/step - loss: 2.6029 - acc: 0.4517 - val_loss: 2.5678 - val_acc: 0.4567\n",
      "Epoch 7/200\n",
      "86/86 [==============================] - 171s 2s/step - loss: 2.4087 - acc: 0.4803 - val_loss: 2.4605 - val_acc: 0.4761\n",
      "Epoch 8/200\n",
      "86/86 [==============================] - 169s 2s/step - loss: 2.2851 - acc: 0.4999 - val_loss: 2.3521 - val_acc: 0.4906\n",
      "Epoch 9/200\n",
      "86/86 [==============================] - 171s 2s/step - loss: 2.1407 - acc: 0.5212 - val_loss: 2.2847 - val_acc: 0.4973\n",
      "Epoch 10/200\n",
      "86/86 [==============================] - 170s 2s/step - loss: 2.0348 - acc: 0.5400 - val_loss: 2.1542 - val_acc: 0.5215\n",
      "Epoch 11/200\n",
      "86/86 [==============================] - 170s 2s/step - loss: 1.9517 - acc: 0.5552 - val_loss: 2.0816 - val_acc: 0.5330\n",
      "Epoch 12/200\n",
      "86/86 [==============================] - 171s 2s/step - loss: 1.8424 - acc: 0.5757 - val_loss: 2.0407 - val_acc: 0.5451\n",
      "Epoch 13/200\n",
      "86/86 [==============================] - 171s 2s/step - loss: 1.7544 - acc: 0.5893 - val_loss: 1.9879 - val_acc: 0.5530\n",
      "Epoch 14/200\n",
      "86/86 [==============================] - 193s 2s/step - loss: 1.6815 - acc: 0.6045 - val_loss: 1.9195 - val_acc: 0.5690\n",
      "Epoch 15/200\n",
      "86/86 [==============================] - 753s 9s/step - loss: 1.6398 - acc: 0.6150 - val_loss: 1.8937 - val_acc: 0.5727\n",
      "Epoch 16/200\n",
      "86/86 [==============================] - 668s 8s/step - loss: 1.5510 - acc: 0.6308 - val_loss: 1.8916 - val_acc: 0.5715\n",
      "Epoch 17/200\n",
      "86/86 [==============================] - 750s 9s/step - loss: 1.4934 - acc: 0.6428 - val_loss: 1.7909 - val_acc: 0.5949\n",
      "Epoch 18/200\n",
      "86/86 [==============================] - 688s 8s/step - loss: 1.4375 - acc: 0.6546 - val_loss: 1.7866 - val_acc: 0.5925\n",
      "Epoch 19/200\n",
      "86/86 [==============================] - 650s 8s/step - loss: 1.3937 - acc: 0.6645 - val_loss: 1.7415 - val_acc: 0.6043\n",
      "Epoch 20/200\n",
      "86/86 [==============================] - 742s 9s/step - loss: 1.3385 - acc: 0.6765 - val_loss: 1.7421 - val_acc: 0.6008\n"
     ]
    },
    {
     "data": {
      "image/png": "[encoded data removed]",
      "text/plain": [
       "<Figure size 432x288 with 1 Axes>"
      ]
     },
     "metadata": {
      "needs_background": "light"
     },
     "output_type": "display_data"
    }
   ],
   "source": [
    "model, history = cnn(X_train, X_test, Y_train, Y_test, wordembeddings, vocab_size)"
   ]
  },
  {
   "cell_type": "code",
   "execution_count": null,
   "id": "d9ac01af",
   "metadata": {},
   "outputs": [],
   "source": []
  }
 ],
 "metadata": {
  "kernelspec": {
   "display_name": "Python 3",
   "language": "python",
   "name": "python3"
  },
  "language_info": {
   "codemirror_mode": {
    "name": "ipython",
    "version": 3
   },
   "file_extension": ".py",
   "mimetype": "text/x-python",
   "name": "python",
   "nbconvert_exporter": "python",
   "pygments_lexer": "ipython3",
   "version": "3.8.8"
  }
 },
 "nbformat": 4,
 "nbformat_minor": 5
}
