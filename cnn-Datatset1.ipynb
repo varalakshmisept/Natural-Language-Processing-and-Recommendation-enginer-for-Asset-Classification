{
 "cells": [
  {
   "cell_type": "code",
   "execution_count": 1,
   "metadata": {},
   "outputs": [],
   "source": [
    "from sklearn.preprocessing import LabelEncoder\n",
    "import config\n",
    "from keras.preprocessing.sequence import pad_sequences\n",
    "import re\n",
    "import pandas as pd\n",
    "from sklearn.model_selection import train_test_split\n",
    "import random\n",
    "import boto3\n",
    "import numpy as np\n",
    "from keras.preprocessing.text import Tokenizer\n",
    "from keras.layers import Embedding\n",
    "from keras.layers import Dense, Input, GlobalMaxPooling1D\n",
    "from keras.layers import Conv1D, MaxPooling1D, Embedding\n",
    "from keras.layers import Input, Dense, Embedding, Conv2D, MaxPooling2D, Dropout,concatenate\n",
    "from keras.layers.core import Reshape, Flatten\n",
    "from keras.callbacks import EarlyStopping\n",
    "import sys\n",
    "from tensorflow import keras"
   ]
  },
  {
   "cell_type": "code",
   "execution_count": 2,
   "metadata": {},
   "outputs": [],
   "source": [
    "from keras import regularizers\n",
    "from keras.models import Model\n",
    "import matplotlib.pyplot as plt\n",
    "from keras.optimizers import SGD, RMSprop, Adagrad, Adadelta, Adam, Adamax, Nadam\n",
    "import warnings\n",
    "warnings.filterwarnings(\"ignore\", category=DeprecationWarning)"
   ]
  },
  {
   "cell_type": "code",
   "execution_count": 3,
   "metadata": {},
   "outputs": [],
   "source": [
    "def trainTestSplit(df,n):\n",
    "    random.seed(123)\n",
    "    df1 = df['ASSET_CLASS'].value_counts().rename_axis('Assets').reset_index(name = 'counts')\n",
    "    df_new = df1[df1['counts']>=n] # Train Test split 75% - train\n",
    "    assets = list(df_new['Assets'])\n",
    "    dffiltered = df[df['ASSET_CLASS'].isin(assets)]\n",
    "    dffiltered['ASSET_CLASS_CODES'] = pd.Categorical(dffiltered['ASSET_CLASS'])\n",
    "    dffiltered['ASSET_CLASS_CODES'] = dffiltered['ASSET_CLASS_CODES'].cat.codes\n",
    "    #x = dffiltered.drop(columns = ['ASSET_CLASS','ASSET_CLASS_CODES','BUSINESS_UNIT','PSC_CODE','FUND_SUBOBJCLASS','ORDER_DATE','ORDER_TITLE',                                                                                                                                                      \n",
    "     #       'LINE_DESCRIPTION', 'VENDOR_NAME', 'VENDOR_COUNTRY', 'ASSET_CLASS_DESCRIPTION','text_fields','SUB_OBJ_DESCR','OBJ_CODE'])\n",
    "    #x = dffiltered[['text_fields', 'ASSET_CLASS_CODES']]\n",
    "    \n",
    "    x = dffiltered['text_fields']\n",
    "    #xcols = list(x.columns)\n",
    "    y = pd.get_dummies(dffiltered['ASSET_CLASS_CODES'])\n",
    "    # creating instance of labelencoder    \n",
    "    X_train, X_test, Y_train, Y_test = train_test_split(x,y, test_size = 0.20, stratify = y)\n",
    "    print(' Number of Assets ' + str(len(set(list(dffiltered['ASSET_CLASS'])))))\n",
    "    #dict_codes = pd.Series(df.ASSET_CLASS.values, index = df.ASSET_CLASS_CODES).to_dict()\n",
    "    return X_train, X_test,  Y_train, Y_test"
   ]
  },
  {
   "cell_type": "code",
   "execution_count": 4,
   "metadata": {},
   "outputs": [],
   "source": [
    "def scores(y_pred, Y_test):\n",
    "    print('Accuracy:   '+str(accuracy_score(y_pred, Y_test)))\n",
    "    print('Precision Macro:   '+ str(precision_score(y_pred, Y_test,average = 'macro')))\n",
    "    print('Recall Macro:     '+str(recall_score(y_pred, Y_test, average = 'macro')))\n",
    "    print('F1 Score Macro:     '+str(f1_score(y_pred, Y_test, average = 'macro')))\n",
    "    print('\\n')"
   ]
  },
  {
   "cell_type": "code",
   "execution_count": 5,
   "metadata": {},
   "outputs": [],
   "source": [
    "def generateEmbeddingIndex():\n",
    "    print('Indexing word vectors.')\n",
    "    embeddings_index = {}\n",
    "    with open((config.utils_dir+config.glove_txt_300d)) as f:\n",
    "        for line in f:\n",
    "            word, coefs = line.split(maxsplit=1)\n",
    "            coefs = np.fromstring(coefs, 'f', sep=' ')\n",
    "            embeddings_index[word] = coefs\n",
    "\n",
    "    print('Found %s word vectors.' % len(embeddings_index))\n",
    "    return embeddings_index"
   ]
  },
  {
   "cell_type": "code",
   "execution_count": 6,
   "metadata": {},
   "outputs": [],
   "source": [
    "def scores(y_pred, Y_test):\n",
    "    print('Accuracy:   '+str(accuracy_score(y_pred, Y_test)))\n",
    "    print('Precision Macro:   '+ str(precision_score(y_pred, Y_test,average = 'macro')))\n",
    "    print('Recall Macro:     '+str(recall_score(y_pred, Y_test, average = 'macro')))\n",
    "    print('F1 Score Macro:     '+str(f1_score(y_pred, Y_test, average = 'macro')))\n",
    "    print('\\n')"
   ]
  },
  {
   "cell_type": "code",
   "execution_count": 7,
   "metadata": {},
   "outputs": [],
   "source": [
    "#Tokenize text of the training data with keras text preprocessing functions\n",
    "def cnn(X_train, X_test, Y_train, Y_test, wordembeddings, vocab_size):\n",
    "    \n",
    "    #NUM_WORDS = vocab_size\n",
    "    EMBEDDING_DIM=300\n",
    "    tokenizer = Tokenizer(filters='!\"#$%&()*+,-./:;<=>?@[\\\\]^_`{|}~\\t\\n\\'',\n",
    "                      lower=True)\n",
    "    tokenizer.fit_on_texts(X_train)\n",
    "    word_index = tokenizer.word_index\n",
    "    print('Found %s unique tokens.' % len(word_index))\n",
    "    \n",
    "    sequences_train = tokenizer.texts_to_sequences(X_train)\n",
    "    sequences_valid=tokenizer.texts_to_sequences(X_test)\n",
    "    \n",
    "    max_length_sentence = X_train.str.split().str.len().max()\n",
    "    print(\"The number of words in the longest sentence\", max_length_sentence)\n",
    "    \n",
    "    X_train = pad_sequences(sequences_train,maxlen=max_length_sentence)\n",
    "    X_val = pad_sequences(sequences_valid,maxlen=X_train.shape[1])\n",
    "    \n",
    "    y_train = np.asarray(Y_train)\n",
    "    y_val = np.asarray(Y_test)\n",
    "    \n",
    "    print('Shape of X train and X validation tensor:', X_train.shape,X_val.shape)\n",
    "    print('Shape of label train and validation tensor:', y_train.shape,y_val.shape)\n",
    "    \n",
    "    \n",
    "    EMBEDDING_DIM=300\n",
    "    vocabulary_size=len(word_index)+1\n",
    "    embedding_matrix = np.zeros((vocabulary_size, EMBEDDING_DIM))\n",
    "    \n",
    "    for word, i in word_index.items():\n",
    "        try:\n",
    "            embedding_vector = model[word]\n",
    "        except:\n",
    "            try:\n",
    "                embedding_vector = model[word.title()]\n",
    "            except:\n",
    "                try:\n",
    "                    embedding_vector = model[word.upper()]\n",
    "                except:\n",
    "                     embedding_vector = np.array([round(np.random.rand(),8) for i in range(0,300)])\n",
    "\n",
    "        if embedding_vector is not None:\n",
    "            embedding_matrix[i] = embedding_vector\n",
    "\n",
    "    embedding_layer = Embedding(vocabulary_size,\n",
    "                            EMBEDDING_DIM,\n",
    "                            weights=[embedding_matrix],\n",
    "                            trainable=False) #Try with True\n",
    "    \n",
    "    \n",
    "    \n",
    "    sequence_length = X_train.shape[1]\n",
    "    filter_sizes = [5,6]\n",
    "    num_filters = 100\n",
    "    drop = 0.1\n",
    "\n",
    "    inputs = Input(shape=(sequence_length,))\n",
    "    embedding = embedding_layer(inputs)\n",
    "    reshape = Reshape((sequence_length,EMBEDDING_DIM,1))(embedding)\n",
    "    \n",
    "    conv_0 = Conv2D(num_filters, (filter_sizes[0], EMBEDDING_DIM),activation='relu')(reshape)\n",
    "    conv_1 = Conv2D(num_filters, (filter_sizes[1], EMBEDDING_DIM),activation='relu')(reshape)\n",
    "    \n",
    "\n",
    "    maxpool_0 = MaxPooling2D((sequence_length - filter_sizes[0] + 1, 1), strides=(1,1))(conv_0)\n",
    "    maxpool_1 = MaxPooling2D((sequence_length - filter_sizes[1] + 1, 1), strides=(1,1))(conv_1)\n",
    "\n",
    "    merged_tensor = concatenate([maxpool_0, maxpool_1], axis=1)\n",
    "    flatten = Flatten()(merged_tensor)\n",
    "    reshape = Reshape((2*num_filters,))(flatten)\n",
    "    #dropout = Dropout(drop)(flatten)\n",
    "    conc = Dense(40)(flatten)\n",
    "    output = Dense(units=Y_train.shape[1], activation='softmax')(conc)\n",
    "\n",
    "    # this creates a model that includes\n",
    "    model = Model(inputs, output)\n",
    "    \n",
    "    # Compiling Model using optimizer\n",
    "    opt = Adam(lr=1e-3)\n",
    "    model.compile(loss='categorical_crossentropy',optimizer=opt,metrics=['acc'])\n",
    "    model.summary()\n",
    "    \n",
    "    \n",
    "    # Fitting Model to the data\n",
    "    callbacks = [EarlyStopping(monitor='val_loss')]\n",
    "    hist_adam = model.fit(X_train, y_train, batch_size=1000, epochs=200, verbose=1, validation_data=(X_val, y_val),\n",
    "             callbacks=callbacks)\n",
    "    \n",
    "    \n",
    "    plt.suptitle('Optimizer : Adam', fontsize=10)\n",
    "    plt.ylabel('Loss', fontsize=16)\n",
    "    plt.xlabel('Epoch', fontsize=14)\n",
    "    plt.plot(hist_adam.history['loss'], color='b', label='Training Loss')\n",
    "    plt.plot(hist_adam.history['val_loss'], color='r', label='Validation Loss')\n",
    "    plt.legend(loc='upper right')\n",
    "    plt.savefig('cnn_model_plot_original.png')\n",
    "    #y_pred = model.predict(X_test)\n",
    "    #scores(y_pred, Y_test)\n",
    "    model.save(config.cnn_dataset1)\n",
    "    return model,hist_adam\n"
   ]
  },
  {
   "cell_type": "code",
   "execution_count": 8,
   "metadata": {},
   "outputs": [],
   "source": [
    "def main():\n",
    "    #data_location = connect()\n",
    "    df = read_files()\n",
    "    df = df.replace(np.nan, '', regex = True)\n",
    "\n",
    "    X_train, X_test, Y_train, Y_test = trainTestSplit(df,100)\n",
    "\n",
    "    # wordembeddings\n",
    "    wordembeddings = generateEmbeddingIndex()\n",
    "    print(wordembeddings)\n",
    "    \n",
    "    #cnn(X_train, X_test, Y_train, Y_test, wordembeddings)\n",
    "    print(len(wordembeddings))"
   ]
  },
  {
   "cell_type": "code",
   "execution_count": 9,
   "metadata": {},
   "outputs": [],
   "source": [
    "df = pd.read_csv(config.datasets_dir + config.preprocessed_filename_deep_learning)\n",
    "#df_optimized = pd.read_csv(config.datasets_dir + config.optimized_dataset)\n",
    "#df['ASSET_CLASS'] = df_optimized['ASSET_CLASS']"
   ]
  },
  {
   "cell_type": "code",
   "execution_count": 10,
   "metadata": {},
   "outputs": [
    {
     "data": {
      "text/plain": [
       "False"
      ]
     },
     "execution_count": 10,
     "metadata": {},
     "output_type": "execute_result"
    }
   ],
   "source": [
    "df[\"text_fields\"].isnull().values.any()"
   ]
  },
  {
   "cell_type": "code",
   "execution_count": 11,
   "metadata": {},
   "outputs": [
    {
     "name": "stderr",
     "output_type": "stream",
     "text": [
      "<ipython-input-3-fde83473a08c>:7: SettingWithCopyWarning: \n",
      "A value is trying to be set on a copy of a slice from a DataFrame.\n",
      "Try using .loc[row_indexer,col_indexer] = value instead\n",
      "\n",
      "See the caveats in the documentation: https://pandas.pydata.org/pandas-docs/stable/user_guide/indexing.html#returning-a-view-versus-a-copy\n",
      "  dffiltered['ASSET_CLASS_CODES'] = pd.Categorical(dffiltered['ASSET_CLASS'])\n",
      "<ipython-input-3-fde83473a08c>:8: SettingWithCopyWarning: \n",
      "A value is trying to be set on a copy of a slice from a DataFrame.\n",
      "Try using .loc[row_indexer,col_indexer] = value instead\n",
      "\n",
      "See the caveats in the documentation: https://pandas.pydata.org/pandas-docs/stable/user_guide/indexing.html#returning-a-view-versus-a-copy\n",
      "  dffiltered['ASSET_CLASS_CODES'] = dffiltered['ASSET_CLASS_CODES'].cat.codes\n"
     ]
    },
    {
     "name": "stdout",
     "output_type": "stream",
     "text": [
      " Number of Assets 909\n"
     ]
    }
   ],
   "source": [
    "X_train, X_test, Y_train, Y_test = trainTestSplit(df,2)"
   ]
  },
  {
   "cell_type": "code",
   "execution_count": 12,
   "metadata": {},
   "outputs": [
    {
     "name": "stdout",
     "output_type": "stream",
     "text": [
      "Indexing word vectors.\n",
      "Found 2195885 word vectors.\n"
     ]
    }
   ],
   "source": [
    "wordembeddings = generateEmbeddingIndex()"
   ]
  },
  {
   "cell_type": "code",
   "execution_count": 13,
   "metadata": {},
   "outputs": [
    {
     "data": {
      "text/plain": [
       "(85536,)"
      ]
     },
     "execution_count": 13,
     "metadata": {},
     "output_type": "execute_result"
    }
   ],
   "source": [
    "X_train.shape"
   ]
  },
  {
   "cell_type": "code",
   "execution_count": 14,
   "metadata": {},
   "outputs": [
    {
     "name": "stdout",
     "output_type": "stream",
     "text": [
      "['transformers' 'warehouse' 'location' ... 'subscr' 'medialess' 'pry']\n"
     ]
    }
   ],
   "source": [
    "vocabulary = df[\"text_fields\"].str.lower().str.split(\" \").apply(pd.Series).stack().unique()\n",
    "#cnn(X_train, X_test, Y_train, Y_test, wordembeddings)\n",
    "print(vocabulary)"
   ]
  },
  {
   "cell_type": "code",
   "execution_count": 15,
   "metadata": {},
   "outputs": [
    {
     "name": "stdout",
     "output_type": "stream",
     "text": [
      "Length of vocabulary 46467\n"
     ]
    }
   ],
   "source": [
    "vocab_size = len(vocabulary)\n",
    "print(\"Length of vocabulary\", len(vocabulary))"
   ]
  },
  {
   "cell_type": "code",
   "execution_count": 16,
   "metadata": {},
   "outputs": [
    {
     "name": "stdout",
     "output_type": "stream",
     "text": [
      "Found 43926 unique tokens.\n",
      "The number of words in the longest sentence 231\n",
      "Shape of X train and X validation tensor: (85536, 231) (21385, 231)\n",
      "Shape of label train and validation tensor: (85536, 909) (21385, 909)\n",
      "Model: \"model\"\n",
      "__________________________________________________________________________________________________\n",
      "Layer (type)                    Output Shape         Param #     Connected to                     \n",
      "==================================================================================================\n",
      "input_1 (InputLayer)            [(None, 231)]        0                                            \n",
      "__________________________________________________________________________________________________\n",
      "embedding (Embedding)           (None, 231, 300)     13178100    input_1[0][0]                    \n",
      "__________________________________________________________________________________________________\n",
      "reshape (Reshape)               (None, 231, 300, 1)  0           embedding[0][0]                  \n",
      "__________________________________________________________________________________________________\n",
      "conv2d (Conv2D)                 (None, 227, 1, 100)  150100      reshape[0][0]                    \n",
      "__________________________________________________________________________________________________\n",
      "conv2d_1 (Conv2D)               (None, 226, 1, 100)  180100      reshape[0][0]                    \n",
      "__________________________________________________________________________________________________\n",
      "max_pooling2d (MaxPooling2D)    (None, 1, 1, 100)    0           conv2d[0][0]                     \n",
      "__________________________________________________________________________________________________\n",
      "max_pooling2d_1 (MaxPooling2D)  (None, 1, 1, 100)    0           conv2d_1[0][0]                   \n",
      "__________________________________________________________________________________________________\n",
      "concatenate (Concatenate)       (None, 2, 1, 100)    0           max_pooling2d[0][0]              \n",
      "                                                                 max_pooling2d_1[0][0]            \n",
      "__________________________________________________________________________________________________\n",
      "flatten (Flatten)               (None, 200)          0           concatenate[0][0]                \n",
      "__________________________________________________________________________________________________\n",
      "dense (Dense)                   (None, 40)           8040        flatten[0][0]                    \n",
      "__________________________________________________________________________________________________\n",
      "dense_1 (Dense)                 (None, 909)          37269       dense[0][0]                      \n",
      "==================================================================================================\n",
      "Total params: 13,553,609\n",
      "Trainable params: 375,509\n",
      "Non-trainable params: 13,178,100\n",
      "__________________________________________________________________________________________________\n",
      "Epoch 1/200\n",
      "86/86 [==============================] - 376s 4s/step - loss: 5.8671 - acc: 0.0337 - val_loss: 4.8780 - val_acc: 0.1564\n",
      "Epoch 2/200\n",
      "86/86 [==============================] - 363s 4s/step - loss: 4.5784 - acc: 0.1860 - val_loss: 3.8562 - val_acc: 0.2874\n",
      "Epoch 3/200\n",
      "86/86 [==============================] - 360s 4s/step - loss: 3.6797 - acc: 0.3066 - val_loss: 3.3268 - val_acc: 0.3423\n",
      "Epoch 4/200\n",
      "86/86 [==============================] - 358s 4s/step - loss: 3.1681 - acc: 0.3715 - val_loss: 2.9720 - val_acc: 0.4035\n",
      "Epoch 5/200\n",
      "86/86 [==============================] - 359s 4s/step - loss: 2.8498 - acc: 0.4163 - val_loss: 2.7541 - val_acc: 0.4298\n",
      "Epoch 6/200\n",
      "86/86 [==============================] - 358s 4s/step - loss: 2.6043 - acc: 0.4524 - val_loss: 2.5625 - val_acc: 0.4582\n",
      "Epoch 7/200\n",
      "86/86 [==============================] - 358s 4s/step - loss: 2.4095 - acc: 0.4804 - val_loss: 2.4197 - val_acc: 0.4777\n",
      "Epoch 8/200\n",
      "86/86 [==============================] - 361s 4s/step - loss: 2.2701 - acc: 0.5002 - val_loss: 2.3365 - val_acc: 0.4886\n",
      "Epoch 9/200\n",
      "86/86 [==============================] - 361s 4s/step - loss: 2.1505 - acc: 0.5235 - val_loss: 2.2463 - val_acc: 0.5080\n",
      "Epoch 10/200\n",
      "86/86 [==============================] - 360s 4s/step - loss: 2.0558 - acc: 0.5346 - val_loss: 2.1540 - val_acc: 0.5188\n",
      "Epoch 11/200\n",
      "86/86 [==============================] - 357s 4s/step - loss: 1.9409 - acc: 0.5563 - val_loss: 2.0932 - val_acc: 0.5302\n",
      "Epoch 12/200\n",
      "86/86 [==============================] - 359s 4s/step - loss: 1.8671 - acc: 0.5684 - val_loss: 2.0238 - val_acc: 0.5447\n",
      "Epoch 13/200\n",
      "86/86 [==============================] - 358s 4s/step - loss: 1.7776 - acc: 0.5888 - val_loss: 1.9912 - val_acc: 0.5507\n",
      "Epoch 14/200\n",
      "86/86 [==============================] - 356s 4s/step - loss: 1.7047 - acc: 0.5993 - val_loss: 1.9062 - val_acc: 0.5675\n",
      "Epoch 15/200\n",
      "86/86 [==============================] - 357s 4s/step - loss: 1.6357 - acc: 0.6128 - val_loss: 1.8955 - val_acc: 0.5710\n",
      "Epoch 16/200\n",
      "86/86 [==============================] - 360s 4s/step - loss: 1.5812 - acc: 0.6233 - val_loss: 1.8403 - val_acc: 0.5825\n",
      "Epoch 17/200\n",
      "86/86 [==============================] - 361s 4s/step - loss: 1.5153 - acc: 0.6357 - val_loss: 1.8266 - val_acc: 0.5856\n",
      "Epoch 18/200\n",
      "86/86 [==============================] - 361s 4s/step - loss: 1.4613 - acc: 0.6495 - val_loss: 1.8304 - val_acc: 0.5877\n"
     ]
    },
    {
     "data": {
      "image/png": "[encoded data removed]",
      "text/plain": [
       "<Figure size 432x288 with 1 Axes>"
      ]
     },
     "metadata": {
      "needs_background": "light"
     },
     "output_type": "display_data"
    }
   ],
   "source": [
    "model, history = cnn(X_train, X_test, Y_train, Y_test, wordembeddings, vocab_size)"
   ]
  },
  {
   "cell_type": "code",
   "execution_count": 17,
   "metadata": {},
   "outputs": [
    {
     "ename": "FileNotFoundError",
     "evalue": "[Errno 2] No such file or directory: '/home/ubuntu/asset_classification/plots//cnn_model_plot_original.png'",
     "output_type": "error",
     "traceback": [
      "\u001b[0;31m---------------------------------------------------------------------------\u001b[0m",
      "\u001b[0;31mFileNotFoundError\u001b[0m                         Traceback (most recent call last)",
      "\u001b[0;32m<ipython-input-17-12974f4f0cd2>\u001b[0m in \u001b[0;36m<module>\u001b[0;34m\u001b[0m\n\u001b[1;32m      1\u001b[0m \u001b[0;32mimport\u001b[0m \u001b[0mplot_model\u001b[0m\u001b[0;34m\u001b[0m\u001b[0;34m\u001b[0m\u001b[0m\n\u001b[0;32m----> 2\u001b[0;31m \u001b[0mkeras\u001b[0m\u001b[0;34m.\u001b[0m\u001b[0mutils\u001b[0m\u001b[0;34m.\u001b[0m\u001b[0mplot_model\u001b[0m\u001b[0;34m(\u001b[0m\u001b[0mmodel\u001b[0m\u001b[0;34m,\u001b[0m \u001b[0mto_file\u001b[0m\u001b[0;34m=\u001b[0m\u001b[0mconfig\u001b[0m\u001b[0;34m.\u001b[0m\u001b[0mplots_dir\u001b[0m\u001b[0;34m+\u001b[0m\u001b[0;34m'/cnn_model_plot_original.png'\u001b[0m\u001b[0;34m,\u001b[0m \u001b[0mshow_shapes\u001b[0m\u001b[0;34m=\u001b[0m\u001b[0;32mTrue\u001b[0m\u001b[0;34m,\u001b[0m \u001b[0mshow_layer_names\u001b[0m\u001b[0;34m=\u001b[0m\u001b[0;32mTrue\u001b[0m\u001b[0;34m)\u001b[0m\u001b[0;34m\u001b[0m\u001b[0;34m\u001b[0m\u001b[0m\n\u001b[0m\u001b[1;32m      3\u001b[0m \u001b[0;31m#plt.savefig(config.plots_dir+'cnn_model_plot_original.png')\u001b[0m\u001b[0;34m\u001b[0m\u001b[0;34m\u001b[0m\u001b[0;34m\u001b[0m\u001b[0m\n",
      "\u001b[0;32m~/anaconda3/envs/asset_classification_env/lib/python3.8/site-packages/tensorflow/python/keras/utils/vis_utils.py\u001b[0m in \u001b[0;36mplot_model\u001b[0;34m(model, to_file, show_shapes, show_dtype, show_layer_names, rankdir, expand_nested, dpi)\u001b[0m\n\u001b[1;32m    339\u001b[0m     \u001b[0mextension\u001b[0m \u001b[0;34m=\u001b[0m \u001b[0mextension\u001b[0m\u001b[0;34m[\u001b[0m\u001b[0;36m1\u001b[0m\u001b[0;34m:\u001b[0m\u001b[0;34m]\u001b[0m\u001b[0;34m\u001b[0m\u001b[0;34m\u001b[0m\u001b[0m\n\u001b[1;32m    340\u001b[0m   \u001b[0;31m# Save image to disk.\u001b[0m\u001b[0;34m\u001b[0m\u001b[0;34m\u001b[0m\u001b[0;34m\u001b[0m\u001b[0m\n\u001b[0;32m--> 341\u001b[0;31m   \u001b[0mdot\u001b[0m\u001b[0;34m.\u001b[0m\u001b[0mwrite\u001b[0m\u001b[0;34m(\u001b[0m\u001b[0mto_file\u001b[0m\u001b[0;34m,\u001b[0m \u001b[0mformat\u001b[0m\u001b[0;34m=\u001b[0m\u001b[0mextension\u001b[0m\u001b[0;34m)\u001b[0m\u001b[0;34m\u001b[0m\u001b[0;34m\u001b[0m\u001b[0m\n\u001b[0m\u001b[1;32m    342\u001b[0m   \u001b[0;31m# Return the image as a Jupyter Image object, to be displayed in-line.\u001b[0m\u001b[0;34m\u001b[0m\u001b[0;34m\u001b[0m\u001b[0;34m\u001b[0m\u001b[0m\n\u001b[1;32m    343\u001b[0m   \u001b[0;31m# Note that we cannot easily detect whether the code is running in a\u001b[0m\u001b[0;34m\u001b[0m\u001b[0;34m\u001b[0m\u001b[0;34m\u001b[0m\u001b[0m\n",
      "\u001b[0;32m~/anaconda3/envs/asset_classification_env/lib/python3.8/site-packages/pydotplus/graphviz.py\u001b[0m in \u001b[0;36mwrite\u001b[0;34m(self, path, prog, format)\u001b[0m\n\u001b[1;32m   1892\u001b[0m             \u001b[0mprog\u001b[0m \u001b[0;34m=\u001b[0m \u001b[0mself\u001b[0m\u001b[0;34m.\u001b[0m\u001b[0mprog\u001b[0m\u001b[0;34m\u001b[0m\u001b[0;34m\u001b[0m\u001b[0m\n\u001b[1;32m   1893\u001b[0m \u001b[0;34m\u001b[0m\u001b[0m\n\u001b[0;32m-> 1894\u001b[0;31m         \u001b[0mfobj\u001b[0m\u001b[0;34m,\u001b[0m \u001b[0mclose\u001b[0m \u001b[0;34m=\u001b[0m \u001b[0mget_fobj\u001b[0m\u001b[0;34m(\u001b[0m\u001b[0mpath\u001b[0m\u001b[0;34m,\u001b[0m \u001b[0;34m'w+b'\u001b[0m\u001b[0;34m)\u001b[0m\u001b[0;34m\u001b[0m\u001b[0;34m\u001b[0m\u001b[0m\n\u001b[0m\u001b[1;32m   1895\u001b[0m         \u001b[0;32mtry\u001b[0m\u001b[0;34m:\u001b[0m\u001b[0;34m\u001b[0m\u001b[0;34m\u001b[0m\u001b[0m\n\u001b[1;32m   1896\u001b[0m             \u001b[0;32mif\u001b[0m \u001b[0mformat\u001b[0m \u001b[0;34m==\u001b[0m \u001b[0;34m'raw'\u001b[0m\u001b[0;34m:\u001b[0m\u001b[0;34m\u001b[0m\u001b[0;34m\u001b[0m\u001b[0m\n",
      "\u001b[0;32m~/anaconda3/envs/asset_classification_env/lib/python3.8/site-packages/pydotplus/graphviz.py\u001b[0m in \u001b[0;36mget_fobj\u001b[0;34m(fname, mode)\u001b[0m\n\u001b[1;32m    148\u001b[0m     \"\"\"\n\u001b[1;32m    149\u001b[0m     \u001b[0;32mif\u001b[0m \u001b[0mis_string_like\u001b[0m\u001b[0;34m(\u001b[0m\u001b[0mfname\u001b[0m\u001b[0;34m)\u001b[0m\u001b[0;34m:\u001b[0m\u001b[0;34m\u001b[0m\u001b[0;34m\u001b[0m\u001b[0m\n\u001b[0;32m--> 150\u001b[0;31m         \u001b[0mfobj\u001b[0m \u001b[0;34m=\u001b[0m \u001b[0mopen\u001b[0m\u001b[0;34m(\u001b[0m\u001b[0mfname\u001b[0m\u001b[0;34m,\u001b[0m \u001b[0mmode\u001b[0m\u001b[0;34m)\u001b[0m\u001b[0;34m\u001b[0m\u001b[0;34m\u001b[0m\u001b[0m\n\u001b[0m\u001b[1;32m    151\u001b[0m         \u001b[0mclose\u001b[0m \u001b[0;34m=\u001b[0m \u001b[0;32mTrue\u001b[0m\u001b[0;34m\u001b[0m\u001b[0;34m\u001b[0m\u001b[0m\n\u001b[1;32m    152\u001b[0m     \u001b[0;32melif\u001b[0m \u001b[0mhasattr\u001b[0m\u001b[0;34m(\u001b[0m\u001b[0mfname\u001b[0m\u001b[0;34m,\u001b[0m \u001b[0;34m'write'\u001b[0m\u001b[0;34m)\u001b[0m\u001b[0;34m:\u001b[0m\u001b[0;34m\u001b[0m\u001b[0;34m\u001b[0m\u001b[0m\n",
      "\u001b[0;31mFileNotFoundError\u001b[0m: [Errno 2] No such file or directory: '/home/ubuntu/asset_classification/plots//cnn_model_plot_original.png'"
     ]
    }
   ],
   "source": [
    "import plot_model\n",
    "keras.utils.plot_model(model, to_file=config.plots_dir+'/cnn_model_plot_original.png', show_shapes=True, show_layer_names=True)\n",
    "#plt.savefig(config.plots_dir+'cnn_model_plot_original.png')"
   ]
  },
  {
   "cell_type": "code",
   "execution_count": null,
   "metadata": {},
   "outputs": [],
   "source": [
    "#Tokenize text of the training data with keras text preprocessing functions\n",
    "def cnn_test(X_train, X_test, Y_train, Y_test):\n",
    "    \n",
    "    #NUM_WORDS = vocab_size\n",
    "    EMBEDDING_DIM=300\n",
    "    tokenizer = Tokenizer(filters='!\"#$%&()*+,-./:;<=>?@[\\\\]^_`{|}~\\t\\n\\'',\n",
    "                      lower=True)\n",
    "    tokenizer.fit_on_texts(X_train)\n",
    "    word_index = tokenizer.word_index\n",
    "    print('Found %s unique tokens.' % len(word_index))\n",
    "    \n",
    "    sequences_train = tokenizer.texts_to_sequences(X_train)\n",
    "    sequences_valid=tokenizer.texts_to_sequences(X_test)\n",
    "    \n",
    "    max_length_sentence = X_train.str.split().str.len().max()\n",
    "    print(\"The number of words in the longest sentence\", max_length_sentence)\n",
    "    \n",
    "    X_train = pad_sequences(sequences_train,maxlen=max_length_sentence)\n",
    "    X_val = pad_sequences(sequences_valid,maxlen=X_train.shape[1])\n",
    "    \n",
    "    y_train = np.asarray(Y_train)\n",
    "    y_val = np.asarray(Y_test)\n",
    "    \n",
    "    # Loading model\n",
    "    model = keras.models.load_model(config.cnn_dataset1)\n",
    "    y_pred = model.predict(X_test)\n",
    "    scores(y_pred, Y_test)\n",
    "    #model.save(config.cnn_dataset1)\n"
   ]
  },
  {
   "cell_type": "code",
   "execution_count": null,
   "metadata": {},
   "outputs": [],
   "source": []
  }
 ],
 "metadata": {
  "kernelspec": {
   "display_name": "Python 3",
   "language": "python",
   "name": "python3"
  },
  "language_info": {
   "codemirror_mode": {
    "name": "ipython",
    "version": 3
   },
   "file_extension": ".py",
   "mimetype": "text/x-python",
   "name": "python",
   "nbconvert_exporter": "python",
   "pygments_lexer": "ipython3",
   "version": "3.8.8"
  }
 },
 "nbformat": 4,
 "nbformat_minor": 4
}
